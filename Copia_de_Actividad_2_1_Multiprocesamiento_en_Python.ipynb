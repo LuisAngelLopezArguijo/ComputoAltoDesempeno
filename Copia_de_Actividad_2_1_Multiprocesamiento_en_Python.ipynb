{
  "nbformat": 4,
  "nbformat_minor": 0,
  "metadata": {
    "colab": {
      "provenance": [],
      "include_colab_link": true
    },
    "kernelspec": {
      "name": "python3",
      "display_name": "Python 3"
    },
    "language_info": {
      "name": "python"
    }
  },
  "cells": [
    {
      "cell_type": "markdown",
      "metadata": {
        "id": "view-in-github",
        "colab_type": "text"
      },
      "source": [
        "<a href=\"https://colab.research.google.com/github/LuisAngelLopezArguijo/ComputoAltoDesempeno/blob/main/Copia_de_Actividad_2_1_Multiprocesamiento_en_Python.ipynb\" target=\"_parent\"><img src=\"https://colab.research.google.com/assets/colab-badge.svg\" alt=\"Open In Colab\"/></a>"
      ]
    },
    {
      "cell_type": "markdown",
      "source": [
        "Nombre: Jessica Méndez\n",
        "\n",
        "Materia: Cómputo de alto desempeño\n",
        "\n",
        "22 de marzo de 2024\n"
      ],
      "metadata": {
        "id": "HyULaFCPRJLR"
      }
    },
    {
      "cell_type": "markdown",
      "source": [
        "# Actividad 1: Multiprocesamiento en Python"
      ],
      "metadata": {
        "id": "DKq1iIdoW7Qz"
      }
    },
    {
      "cell_type": "markdown",
      "source": [
        "Enunciado:\n",
        "Escribe un programa en Python que utilice el módulo multiprocessing para calcular el cuadrado de una lista de números de manera paralela. El programa debe dividir la lista en partes iguales y asignar cada parte a un proceso diferente para realizar el cálculo del cuadrado de los números. Al final, el programa debe imprimir la lista original y la lista resultante con los cuadrados calculados.\n",
        "\n",
        "Ejecución:"
      ],
      "metadata": {
        "id": "blRQL9sYRJES"
      }
    },
    {
      "cell_type": "code",
      "execution_count": 9,
      "metadata": {
        "colab": {
          "base_uri": "https://localhost:8080/"
        },
        "id": "7mY4gbo1RAAn",
        "outputId": "e7dc2152-312f-4feb-f9d0-0a73f1f1fdcc"
      },
      "outputs": [
        {
          "output_type": "stream",
          "name": "stdout",
          "text": [
            "Lista original: [1, 2, 3, 4, 5, 6, 7, 8, 9, 10]\n",
            "Lista con cuadrados calculados: [1, 4, 9, 16, 25, 36, 49, 64, 81, 100]\n"
          ]
        }
      ],
      "source": [
        "import multiprocessing\n",
        "\n",
        "def calcular_cuadrados(nums, resultado, indice_inicio, indice_fin):\n",
        "    for i in range(indice_inicio, indice_fin):\n",
        "        resultado[i] = nums[i] ** 2\n",
        "\n",
        "if __name__ == \"__main__\":\n",
        "    nums = [1, 2, 3, 4, 5, 6, 7, 8, 9, 10]\n",
        "    resultado = multiprocessing.Array('i', len(nums))\n",
        "    procesos = []\n",
        "\n",
        "    for i in range(4):  # Suponiendo 4 núcleos de CPU\n",
        "        inicio = i * len(nums) // 4\n",
        "        fin = (i + 1) * len(nums) // 4\n",
        "        proceso = multiprocessing.Process(target=calcular_cuadrados, args=(nums, resultado, inicio, fin))\n",
        "        procesos.append(proceso)\n",
        "        proceso.start()\n",
        "\n",
        "    for proceso in procesos:\n",
        "        proceso.join()\n",
        "\n",
        "    print(\"Lista original:\", nums)\n",
        "    print(\"Lista con cuadrados calculados:\", list(resultado))\n"
      ]
    },
    {
      "cell_type": "markdown",
      "source": [
        "Desafío 1: Multiprocesamiento en Python"
      ],
      "metadata": {
        "id": "eKO68D0cRZ8L"
      }
    },
    {
      "cell_type": "markdown",
      "source": [
        "Enunciado: Escribe un programa en Python que calcule el cuadrado de cada número en un rango dado de manera concurrente utilizando el módulo multiprocessing. Divide el rango en subrangos y asigna cada subrango a un proceso diferente para que calcule los cuadrados de los números en paralelo."
      ],
      "metadata": {
        "id": "aWmvvIEORh4p"
      }
    },
    {
      "cell_type": "markdown",
      "source": [
        "Tip: Usa la siguiente linea e integrala donde creas correcta, además de que aplica un for por subrangos:\n",
        "\n",
        "subrangos = [rango[i::num_procesos] for i in range(num_procesos)]"
      ],
      "metadata": {
        "id": "qRaj9gPxYX0z"
      }
    },
    {
      "cell_type": "code",
      "source": [
        "import multiprocessing\n",
        "\n",
        "def calcular_cuadrados(subrango, resultados):\n",
        "    cuadrados = [num ** 2 for num in subrango]\n",
        "    resultados.put(cuadrados)\n",
        "\n",
        "def main(rango, num_procesos):\n",
        "    resultados = multiprocessing.Queue()\n",
        "    subrangos = [rango[i::num_procesos] for i in range(num_procesos)]\n",
        "    procesos = []\n",
        "\n",
        "    for subrango in subrangos:\n",
        "        proceso = multiprocessing.Process(target=calcular_cuadrados, args=(subrango, resultados))\n",
        "        proceso.start()\n",
        "        procesos.append(proceso)\n",
        "\n",
        "    for proceso in procesos:\n",
        "        proceso.join()\n",
        "\n",
        "    resultados_final = []\n",
        "    while not resultados.empty():\n",
        "        resultados_final.extend(resultados.get())\n",
        "\n",
        "    return resultados_final\n",
        "\n",
        "if __name__ == \"__main__\":\n",
        "    rango = range(1, 11)\n",
        "    num_procesos = 4\n",
        "    resultados = main(rango, num_procesos)\n",
        "    print(\"Cuadrados:\", resultados)\n"
      ],
      "metadata": {
        "id": "A6aX98lC1cPY",
        "colab": {
          "base_uri": "https://localhost:8080/"
        },
        "outputId": "7a209f06-67c0-4df2-db23-78c6d367f9c0"
      },
      "execution_count": 8,
      "outputs": [
        {
          "output_type": "stream",
          "name": "stdout",
          "text": [
            "Cuadrados: [1, 25, 81, 4, 36, 100, 9, 49, 16, 64]\n"
          ]
        }
      ]
    }
  ]
}